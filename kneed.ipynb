{
 "cells": [
  {
   "cell_type": "markdown",
   "id": "c4bb1ae3",
   "metadata": {},
   "source": [
    "# Testing Kneed\n"
   ]
  },
  {
   "cell_type": "code",
   "execution_count": 2,
   "id": "1d385c0a",
   "metadata": {},
   "outputs": [],
   "source": [
    "import pandas as pd"
   ]
  },
  {
   "cell_type": "code",
   "execution_count": 3,
   "id": "149df913",
   "metadata": {},
   "outputs": [
    {
     "name": "stdout",
     "output_type": "stream",
     "text": [
      "https://raw.githubusercontent.com/utkarshg1/Neural-Net-Datasets/refs/heads/main/Mall_Customers.csv\n"
     ]
    }
   ],
   "source": [
    "url = \"https://raw.githubusercontent.com/utkarshg1/Neural-Net-Datasets/refs/heads/main/Mall_Customers.csv\"\n",
    "print(url)"
   ]
  },
  {
   "cell_type": "code",
   "execution_count": 4,
   "id": "4d148875",
   "metadata": {},
   "outputs": [],
   "source": [
    "import pandas as pd"
   ]
  },
  {
   "cell_type": "code",
   "execution_count": 5,
   "id": "47171971",
   "metadata": {},
   "outputs": [
    {
     "data": {
      "text/html": [
       "<div>\n",
       "<style scoped>\n",
       "    .dataframe tbody tr th:only-of-type {\n",
       "        vertical-align: middle;\n",
       "    }\n",
       "\n",
       "    .dataframe tbody tr th {\n",
       "        vertical-align: top;\n",
       "    }\n",
       "\n",
       "    .dataframe thead th {\n",
       "        text-align: right;\n",
       "    }\n",
       "</style>\n",
       "<table border=\"1\" class=\"dataframe\">\n",
       "  <thead>\n",
       "    <tr style=\"text-align: right;\">\n",
       "      <th></th>\n",
       "      <th>CustomerID</th>\n",
       "      <th>Gender</th>\n",
       "      <th>Age</th>\n",
       "      <th>Income</th>\n",
       "      <th>Spending</th>\n",
       "    </tr>\n",
       "  </thead>\n",
       "  <tbody>\n",
       "    <tr>\n",
       "      <th>0</th>\n",
       "      <td>1</td>\n",
       "      <td>Male</td>\n",
       "      <td>19</td>\n",
       "      <td>15</td>\n",
       "      <td>39</td>\n",
       "    </tr>\n",
       "    <tr>\n",
       "      <th>1</th>\n",
       "      <td>2</td>\n",
       "      <td>Male</td>\n",
       "      <td>21</td>\n",
       "      <td>15</td>\n",
       "      <td>81</td>\n",
       "    </tr>\n",
       "    <tr>\n",
       "      <th>2</th>\n",
       "      <td>3</td>\n",
       "      <td>Female</td>\n",
       "      <td>20</td>\n",
       "      <td>16</td>\n",
       "      <td>6</td>\n",
       "    </tr>\n",
       "    <tr>\n",
       "      <th>3</th>\n",
       "      <td>4</td>\n",
       "      <td>Female</td>\n",
       "      <td>23</td>\n",
       "      <td>16</td>\n",
       "      <td>77</td>\n",
       "    </tr>\n",
       "    <tr>\n",
       "      <th>4</th>\n",
       "      <td>5</td>\n",
       "      <td>Female</td>\n",
       "      <td>31</td>\n",
       "      <td>17</td>\n",
       "      <td>40</td>\n",
       "    </tr>\n",
       "  </tbody>\n",
       "</table>\n",
       "</div>"
      ],
      "text/plain": [
       "   CustomerID  Gender  Age  Income  Spending\n",
       "0           1    Male   19      15        39\n",
       "1           2    Male   21      15        81\n",
       "2           3  Female   20      16         6\n",
       "3           4  Female   23      16        77\n",
       "4           5  Female   31      17        40"
      ]
     },
     "execution_count": 5,
     "metadata": {},
     "output_type": "execute_result"
    }
   ],
   "source": [
    "df = pd.read_csv(url)\n",
    "df.head()"
   ]
  },
  {
   "cell_type": "code",
   "execution_count": 6,
   "id": "d8329563",
   "metadata": {},
   "outputs": [
    {
     "data": {
      "text/html": [
       "<div>\n",
       "<style scoped>\n",
       "    .dataframe tbody tr th:only-of-type {\n",
       "        vertical-align: middle;\n",
       "    }\n",
       "\n",
       "    .dataframe tbody tr th {\n",
       "        vertical-align: top;\n",
       "    }\n",
       "\n",
       "    .dataframe thead th {\n",
       "        text-align: right;\n",
       "    }\n",
       "</style>\n",
       "<table border=\"1\" class=\"dataframe\">\n",
       "  <thead>\n",
       "    <tr style=\"text-align: right;\">\n",
       "      <th></th>\n",
       "      <th>Income</th>\n",
       "      <th>Spending</th>\n",
       "    </tr>\n",
       "  </thead>\n",
       "  <tbody>\n",
       "    <tr>\n",
       "      <th>0</th>\n",
       "      <td>15</td>\n",
       "      <td>39</td>\n",
       "    </tr>\n",
       "    <tr>\n",
       "      <th>1</th>\n",
       "      <td>15</td>\n",
       "      <td>81</td>\n",
       "    </tr>\n",
       "    <tr>\n",
       "      <th>2</th>\n",
       "      <td>16</td>\n",
       "      <td>6</td>\n",
       "    </tr>\n",
       "    <tr>\n",
       "      <th>3</th>\n",
       "      <td>16</td>\n",
       "      <td>77</td>\n",
       "    </tr>\n",
       "    <tr>\n",
       "      <th>4</th>\n",
       "      <td>17</td>\n",
       "      <td>40</td>\n",
       "    </tr>\n",
       "  </tbody>\n",
       "</table>\n",
       "</div>"
      ],
      "text/plain": [
       "   Income  Spending\n",
       "0      15        39\n",
       "1      15        81\n",
       "2      16         6\n",
       "3      16        77\n",
       "4      17        40"
      ]
     },
     "execution_count": 6,
     "metadata": {},
     "output_type": "execute_result"
    }
   ],
   "source": [
    "X = df[[\"Income\", \"Spending\"]]\n",
    "X.head()"
   ]
  },
  {
   "cell_type": "code",
   "execution_count": 7,
   "id": "77018164",
   "metadata": {},
   "outputs": [],
   "source": [
    "from sklearn.pipeline import make_pipeline\n",
    "from sklearn.impute import SimpleImputer\n",
    "from sklearn.preprocessing import StandardScaler"
   ]
  },
  {
   "cell_type": "code",
   "execution_count": 8,
   "id": "08c509ba",
   "metadata": {},
   "outputs": [],
   "source": [
    "num_pipe = make_pipeline(SimpleImputer(strategy=\"median\"), StandardScaler())"
   ]
  },
  {
   "cell_type": "code",
   "execution_count": 9,
   "id": "e4ebaaa7",
   "metadata": {},
   "outputs": [
    {
     "data": {
      "text/plain": [
       "array([[-1.73899919, -0.43480148],\n",
       "       [-1.73899919,  1.19570407],\n",
       "       [-1.70082976, -1.71591298],\n",
       "       [-1.70082976,  1.04041783],\n",
       "       [-1.66266033, -0.39597992]])"
      ]
     },
     "execution_count": 9,
     "metadata": {},
     "output_type": "execute_result"
    }
   ],
   "source": [
    "X_pre = num_pipe.fit_transform(X)\n",
    "X_pre[:5]"
   ]
  },
  {
   "cell_type": "markdown",
   "id": "fb5db3e1",
   "metadata": {},
   "source": [
    "## KMeans inertia\n"
   ]
  },
  {
   "cell_type": "code",
   "execution_count": 10,
   "id": "5a97dbea",
   "metadata": {},
   "outputs": [],
   "source": [
    "from sklearn.cluster import KMeans"
   ]
  },
  {
   "cell_type": "code",
   "execution_count": 11,
   "id": "0b86a5e9",
   "metadata": {},
   "outputs": [
    {
     "data": {
      "text/plain": [
       "[400.0,\n",
       " 273.66888662642015,\n",
       " 157.70400815035947,\n",
       " 109.22822707921345,\n",
       " 65.5684081557168,\n",
       " 60.13287487193422,\n",
       " 49.668244837367986,\n",
       " 37.319122878338824,\n",
       " 32.49508119910091,\n",
       " 30.05932269404221,\n",
       " 26.76120176636121,\n",
       " 26.232893769786838,\n",
       " 23.193553421978397,\n",
       " 21.195257238649532]"
      ]
     },
     "execution_count": 11,
     "metadata": {},
     "output_type": "execute_result"
    }
   ],
   "source": [
    "inertias = []\n",
    "K = range(1, 15)\n",
    "\n",
    "for i in K:\n",
    "    km = KMeans(n_clusters=i, random_state=42).fit(X_pre)\n",
    "    inertias.append(km.inertia_)\n",
    "\n",
    "inertias"
   ]
  },
  {
   "cell_type": "code",
   "execution_count": 12,
   "id": "f4a379fa",
   "metadata": {},
   "outputs": [
    {
     "data": {
      "text/plain": [
       "np.int64(5)"
      ]
     },
     "execution_count": 12,
     "metadata": {},
     "output_type": "execute_result"
    }
   ],
   "source": [
    "from kneed import KneeLocator\n",
    "\n",
    "kneedle = KneeLocator(K, inertias, curve=\"convex\", direction=\"decreasing\")\n",
    "\n",
    "elbow_k = kneedle.elbow\n",
    "\n",
    "elbow_k"
   ]
  },
  {
   "cell_type": "code",
   "execution_count": 23,
   "id": "f65cdf5c",
   "metadata": {},
   "outputs": [
    {
     "data": {
      "text/plain": [
       "65.5684081557168"
      ]
     },
     "execution_count": 23,
     "metadata": {},
     "output_type": "execute_result"
    }
   ],
   "source": [
    "best_inertia = inertias[elbow_k - 1]\n",
    "best_inertia"
   ]
  },
  {
   "cell_type": "code",
   "execution_count": 14,
   "id": "a0b26f59",
   "metadata": {},
   "outputs": [
    {
     "data": {
      "image/png": "[encoded data removed]",
      "text/plain": [
       "<Figure size 1000x600 with 1 Axes>"
      ]
     },
     "metadata": {},
     "output_type": "display_data"
    }
   ],
   "source": [
    "kneedle.plot_knee(\n",
    "    figsize=(10, 6),\n",
    "    xlabel=\"Number of Clusters\",\n",
    "    ylabel=\"Inertia\",\n",
    "    title=f\"Optimal K at {elbow_k}\",\n",
    ")"
   ]
  },
  {
   "cell_type": "code",
   "execution_count": 15,
   "id": "804b8560",
   "metadata": {},
   "outputs": [
    {
     "data": {
      "text/plain": [
       "array([4, 2, 4, 2, 4, 2, 4, 2, 4, 2, 4, 2, 4, 2, 4, 2, 4, 2, 4, 2, 4, 2,\n",
       "       4, 2, 4, 2, 4, 2, 4, 2, 4, 2, 4, 2, 4, 2, 4, 2, 4, 2, 4, 2, 4, 0,\n",
       "       4, 2, 0, 0, 0, 0, 0, 0, 0, 0, 0, 0, 0, 0, 0, 0, 0, 0, 0, 0, 0, 0,\n",
       "       0, 0, 0, 0, 0, 0, 0, 0, 0, 0, 0, 0, 0, 0, 0, 0, 0, 0, 0, 0, 0, 0,\n",
       "       0, 0, 0, 0, 0, 0, 0, 0, 0, 0, 0, 0, 0, 0, 0, 0, 0, 0, 0, 0, 0, 0,\n",
       "       0, 0, 0, 0, 0, 0, 0, 0, 0, 0, 0, 0, 0, 1, 3, 1, 0, 1, 3, 1, 3, 1,\n",
       "       0, 1, 3, 1, 3, 1, 3, 1, 3, 1, 0, 1, 3, 1, 3, 1, 3, 1, 3, 1, 3, 1,\n",
       "       3, 1, 3, 1, 3, 1, 3, 1, 3, 1, 3, 1, 3, 1, 3, 1, 3, 1, 3, 1, 3, 1,\n",
       "       3, 1, 3, 1, 3, 1, 3, 1, 3, 1, 3, 1, 3, 1, 3, 1, 3, 1, 3, 1, 3, 1,\n",
       "       3, 1], dtype=int32)"
      ]
     },
     "execution_count": 15,
     "metadata": {},
     "output_type": "execute_result"
    }
   ],
   "source": [
    "labels = KMeans(n_clusters=elbow_k, random_state=42).fit_predict(X_pre)\n",
    "labels"
   ]
  },
  {
   "cell_type": "code",
   "execution_count": 16,
   "id": "fb50c8d9",
   "metadata": {},
   "outputs": [],
   "source": [
    "X1 = X.copy()"
   ]
  },
  {
   "cell_type": "code",
   "execution_count": 17,
   "id": "2ce9c0c4",
   "metadata": {},
   "outputs": [
    {
     "data": {
      "text/html": [
       "<div>\n",
       "<style scoped>\n",
       "    .dataframe tbody tr th:only-of-type {\n",
       "        vertical-align: middle;\n",
       "    }\n",
       "\n",
       "    .dataframe tbody tr th {\n",
       "        vertical-align: top;\n",
       "    }\n",
       "\n",
       "    .dataframe thead th {\n",
       "        text-align: right;\n",
       "    }\n",
       "</style>\n",
       "<table border=\"1\" class=\"dataframe\">\n",
       "  <thead>\n",
       "    <tr style=\"text-align: right;\">\n",
       "      <th></th>\n",
       "      <th>Income</th>\n",
       "      <th>Spending</th>\n",
       "      <th>Cluster</th>\n",
       "    </tr>\n",
       "  </thead>\n",
       "  <tbody>\n",
       "    <tr>\n",
       "      <th>0</th>\n",
       "      <td>15</td>\n",
       "      <td>39</td>\n",
       "      <td>4</td>\n",
       "    </tr>\n",
       "    <tr>\n",
       "      <th>1</th>\n",
       "      <td>15</td>\n",
       "      <td>81</td>\n",
       "      <td>2</td>\n",
       "    </tr>\n",
       "    <tr>\n",
       "      <th>2</th>\n",
       "      <td>16</td>\n",
       "      <td>6</td>\n",
       "      <td>4</td>\n",
       "    </tr>\n",
       "    <tr>\n",
       "      <th>3</th>\n",
       "      <td>16</td>\n",
       "      <td>77</td>\n",
       "      <td>2</td>\n",
       "    </tr>\n",
       "    <tr>\n",
       "      <th>4</th>\n",
       "      <td>17</td>\n",
       "      <td>40</td>\n",
       "      <td>4</td>\n",
       "    </tr>\n",
       "  </tbody>\n",
       "</table>\n",
       "</div>"
      ],
      "text/plain": [
       "   Income  Spending  Cluster\n",
       "0      15        39        4\n",
       "1      15        81        2\n",
       "2      16         6        4\n",
       "3      16        77        2\n",
       "4      17        40        4"
      ]
     },
     "execution_count": 17,
     "metadata": {},
     "output_type": "execute_result"
    }
   ],
   "source": [
    "X1[\"Cluster\"] = labels\n",
    "X1.head()"
   ]
  },
  {
   "cell_type": "code",
   "execution_count": 18,
   "id": "35684565",
   "metadata": {},
   "outputs": [],
   "source": [
    "import matplotlib.pyplot as plt\n",
    "import seaborn as sns"
   ]
  },
  {
   "cell_type": "code",
   "execution_count": 19,
   "id": "27491df8",
   "metadata": {},
   "outputs": [
    {
     "data": {
      "text/html": [
       "<div>\n",
       "<style scoped>\n",
       "    .dataframe tbody tr th:only-of-type {\n",
       "        vertical-align: middle;\n",
       "    }\n",
       "\n",
       "    .dataframe tbody tr th {\n",
       "        vertical-align: top;\n",
       "    }\n",
       "\n",
       "    .dataframe thead th {\n",
       "        text-align: right;\n",
       "    }\n",
       "</style>\n",
       "<table border=\"1\" class=\"dataframe\">\n",
       "  <thead>\n",
       "    <tr style=\"text-align: right;\">\n",
       "      <th></th>\n",
       "      <th>Income</th>\n",
       "      <th>Spending</th>\n",
       "    </tr>\n",
       "    <tr>\n",
       "      <th>Cluster</th>\n",
       "      <th></th>\n",
       "      <th></th>\n",
       "    </tr>\n",
       "  </thead>\n",
       "  <tbody>\n",
       "    <tr>\n",
       "      <th>0</th>\n",
       "      <td>55.296296</td>\n",
       "      <td>49.518519</td>\n",
       "    </tr>\n",
       "    <tr>\n",
       "      <th>1</th>\n",
       "      <td>86.538462</td>\n",
       "      <td>82.128205</td>\n",
       "    </tr>\n",
       "    <tr>\n",
       "      <th>2</th>\n",
       "      <td>25.727273</td>\n",
       "      <td>79.363636</td>\n",
       "    </tr>\n",
       "    <tr>\n",
       "      <th>3</th>\n",
       "      <td>88.200000</td>\n",
       "      <td>17.114286</td>\n",
       "    </tr>\n",
       "    <tr>\n",
       "      <th>4</th>\n",
       "      <td>26.304348</td>\n",
       "      <td>20.913043</td>\n",
       "    </tr>\n",
       "  </tbody>\n",
       "</table>\n",
       "</div>"
      ],
      "text/plain": [
       "            Income   Spending\n",
       "Cluster                      \n",
       "0        55.296296  49.518519\n",
       "1        86.538462  82.128205\n",
       "2        25.727273  79.363636\n",
       "3        88.200000  17.114286\n",
       "4        26.304348  20.913043"
      ]
     },
     "execution_count": 19,
     "metadata": {},
     "output_type": "execute_result"
    }
   ],
   "source": [
    "centroids = X1.groupby(\"Cluster\").mean()\n",
    "centroids"
   ]
  },
  {
   "cell_type": "code",
   "execution_count": 20,
   "id": "e121dee2",
   "metadata": {},
   "outputs": [
    {
     "data": {
      "image/png": "[encoded data removed]",
      "text/plain": [
       "<Figure size 1000x600 with 1 Axes>"
      ]
     },
     "metadata": {},
     "output_type": "display_data"
    }
   ],
   "source": [
    "plt.figure(figsize=(10, 6))\n",
    "sns.scatterplot(\n",
    "    data=X1, x=\"Income\", y=\"Spending\", hue=\"Cluster\", palette=\"rainbow\", legend=\"full\"\n",
    ")\n",
    "plt.scatter(\n",
    "    centroids[\"Income\"],\n",
    "    centroids[\"Spending\"],\n",
    "    s=300,\n",
    "    c=\"black\",\n",
    "    marker=\"+\",\n",
    "    label=\"Centroids\",\n",
    ")\n",
    "plt.title(\"Clusters of Customers with Centroids\")\n",
    "plt.legend()\n",
    "plt.show()"
   ]
  },
  {
   "cell_type": "code",
   "execution_count": 21,
   "id": "d4b76f0c",
   "metadata": {},
   "outputs": [
    {
     "name": "stdout",
     "output_type": "stream",
     "text": [
      "Cluster 0:\n",
      "          Income   Spending  Cluster\n",
      "count  81.000000  81.000000     81.0\n",
      "mean   55.296296  49.518519      0.0\n",
      "std     8.988109   6.530909      0.0\n",
      "min    39.000000  34.000000      0.0\n",
      "25%    48.000000  44.000000      0.0\n",
      "50%    54.000000  50.000000      0.0\n",
      "75%    62.000000  55.000000      0.0\n",
      "max    76.000000  61.000000      0.0\n",
      "\n",
      "\n",
      "Cluster 1:\n",
      "           Income   Spending  Cluster\n",
      "count   39.000000  39.000000     39.0\n",
      "mean    86.538462  82.128205      1.0\n",
      "std     16.312485   9.364489      0.0\n",
      "min     69.000000  63.000000      1.0\n",
      "25%     75.500000  74.500000      1.0\n",
      "50%     79.000000  83.000000      1.0\n",
      "75%     95.000000  90.000000      1.0\n",
      "max    137.000000  97.000000      1.0\n",
      "\n",
      "\n",
      "Cluster 2:\n",
      "          Income   Spending  Cluster\n",
      "count  22.000000  22.000000     22.0\n",
      "mean   25.727273  79.363636      2.0\n",
      "std     7.566731  10.504174      0.0\n",
      "min    15.000000  61.000000      2.0\n",
      "25%    19.250000  73.000000      2.0\n",
      "50%    24.500000  77.000000      2.0\n",
      "75%    32.250000  85.750000      2.0\n",
      "max    39.000000  99.000000      2.0\n",
      "\n",
      "\n",
      "Cluster 3:\n",
      "           Income   Spending  Cluster\n",
      "count   35.000000  35.000000     35.0\n",
      "mean    88.200000  17.114286      3.0\n",
      "std     16.399067   9.952154      0.0\n",
      "min     70.000000   1.000000      3.0\n",
      "25%     77.500000  10.000000      3.0\n",
      "50%     85.000000  16.000000      3.0\n",
      "75%     97.500000  23.500000      3.0\n",
      "max    137.000000  39.000000      3.0\n",
      "\n",
      "\n",
      "Cluster 4:\n",
      "          Income   Spending  Cluster\n",
      "count  23.000000  23.000000     23.0\n",
      "mean   26.304348  20.913043      4.0\n",
      "std     7.893811  13.017167      0.0\n",
      "min    15.000000   3.000000      4.0\n",
      "25%    19.500000   9.500000      4.0\n",
      "50%    25.000000  17.000000      4.0\n",
      "75%    33.000000  33.500000      4.0\n",
      "max    39.000000  40.000000      4.0\n",
      "\n",
      "\n"
     ]
    }
   ],
   "source": [
    "for i in range(elbow_k):\n",
    "    print(f\"Cluster {i}:\")\n",
    "    print(X1[X1[\"Cluster\"] == i].describe())\n",
    "    print(\"\\n\")"
   ]
  },
  {
   "cell_type": "code",
   "execution_count": 24,
   "id": "4081033e",
   "metadata": {},
   "outputs": [],
   "source": [
    "from sklearn.metrics import silhouette_samples, silhouette_score\n",
    "silhouette_avg = silhouette_score(X_pre, labels)\n",
    "sample_silhouette_values = silhouette_samples(X_pre, labels)"
   ]
  },
  {
   "cell_type": "code",
   "execution_count": 25,
   "id": "f2b10093",
   "metadata": {},
   "outputs": [
    {
     "data": {
      "text/plain": [
       "np.float64(0.5546571631111091)"
      ]
     },
     "execution_count": 25,
     "metadata": {},
     "output_type": "execute_result"
    }
   ],
   "source": [
    "silhouette_avg"
   ]
  },
  {
   "cell_type": "code",
   "execution_count": 27,
   "id": "1085e0fa",
   "metadata": {},
   "outputs": [
    {
     "data": {
      "text/plain": [
       "array([ 0.41124046,  0.69620683,  0.63934069,  0.69604195,  0.38563359,\n",
       "        0.69748215,  0.64833998,  0.65893138,  0.62927054,  0.66184814,\n",
       "        0.67709497,  0.62250892,  0.67914947,  0.7183836 ,  0.67989007,\n",
       "        0.72517377,  0.480728  ,  0.54086604,  0.57771355,  0.63069704,\n",
       "        0.46089203,  0.67601561,  0.64089467,  0.67033897,  0.66074953,\n",
       "        0.70471845,  0.48567333,  0.29331369,  0.4925691 ,  0.6846275 ,\n",
       "        0.60601978,  0.61174317,  0.57727428,  0.61836077,  0.6096252 ,\n",
       "        0.64028425,  0.58637068,  0.52937454,  0.42191998,  0.48596674,\n",
       "        0.09076309,  0.54813337, -0.01212476,  0.12114123,  0.3126116 ,\n",
       "        0.04964594,  0.39355123,  0.43860327,  0.29680812,  0.29680812,\n",
       "        0.52456542,  0.3036705 ,  0.51899981,  0.34289529,  0.49331338,\n",
       "        0.37566018,  0.60191899,  0.54434561,  0.64121219,  0.59585853,\n",
       "        0.55956233,  0.58127935,  0.65113096,  0.50415135,  0.6798204 ,\n",
       "        0.52847598,  0.6854379 ,  0.66721797,  0.52847598,  0.65430631,\n",
       "        0.64323927,  0.57415557,  0.70785199,  0.64042968,  0.73240011,\n",
       "        0.71960708,  0.73182343,  0.74129029,  0.74159279,  0.6536531 ,\n",
       "        0.74900504,  0.70484358,  0.63130684,  0.69165347,  0.66805365,\n",
       "        0.72107475,  0.66610266,  0.71954436,  0.61784186,  0.74061562,\n",
       "        0.71095761,  0.66799557,  0.75906639,  0.6368572 ,  0.67978746,\n",
       "        0.73855764,  0.74803928,  0.75429574,  0.66805596,  0.7491268 ,\n",
       "        0.63258865,  0.73334392,  0.58433562,  0.67210958,  0.65363542,\n",
       "        0.65396607,  0.71666062,  0.70009369,  0.65649422,  0.71881274,\n",
       "        0.69815032,  0.67158563,  0.61853788,  0.68281569,  0.68308919,\n",
       "        0.6811378 ,  0.61748649,  0.5205453 ,  0.56996999,  0.52347183,\n",
       "        0.54681887,  0.49982416,  0.43921864,  0.48677124,  0.00764375,\n",
       "        0.35499284,  0.2000742 ,  0.51256338,  0.49029886,  0.33575618,\n",
       "        0.50127655,  0.33575618,  0.11597748,  0.22775795,  0.537264  ,\n",
       "        0.55301887,  0.54029448,  0.33375809,  0.55104299,  0.32771827,\n",
       "        0.56412338,  0.57965969,  0.19844922,  0.59561258,  0.58606281,\n",
       "        0.57865195, -0.0285739 ,  0.4531429 ,  0.48454354,  0.62024564,\n",
       "        0.56375597,  0.62065055,  0.5219891 ,  0.51179918,  0.57384919,\n",
       "        0.62139286,  0.57352612,  0.54426131,  0.57352612,  0.4442416 ,\n",
       "        0.09680221,  0.60735355,  0.61522539,  0.62998078,  0.50523555,\n",
       "        0.55676657,  0.60844915,  0.63499895,  0.50415471,  0.28018473,\n",
       "        0.65818112,  0.56459675,  0.65536989,  0.65028371,  0.65999533,\n",
       "        0.65492919,  0.65450519,  0.45314191,  0.65347442,  0.64854065,\n",
       "        0.46172751,  0.63444322,  0.63563191,  0.63225154,  0.33477575,\n",
       "        0.60417854,  0.57159713,  0.46389856,  0.6072932 ,  0.60109752,\n",
       "        0.57327602,  0.47494682,  0.55770996,  0.547028  ,  0.51238747,\n",
       "        0.48176216,  0.38845537,  0.38858551,  0.38766848,  0.3726429 ])"
      ]
     },
     "execution_count": 27,
     "metadata": {},
     "output_type": "execute_result"
    }
   ],
   "source": [
    "sample_silhouette_values"
   ]
  },
  {
   "cell_type": "code",
   "execution_count": 30,
   "id": "7d4c093d",
   "metadata": {},
   "outputs": [],
   "source": [
    "import matplotlib.pyplot as plt\n",
    "import matplotlib.cm as cm\n",
    "import numpy as np\n",
    "from sklearn.metrics import silhouette_samples, silhouette_score\n",
    "\n",
    "\n",
    "def plot_silhouette(X, labels):\n",
    "    n_clusters = len(np.unique(labels))\n",
    "    silhouette_avg = silhouette_score(X, labels)\n",
    "    sample_silhouette_values = silhouette_samples(X, labels)\n",
    "\n",
    "    fig, ax1 = plt.subplots()\n",
    "    y_lower = 10\n",
    "    for i in range(n_clusters):\n",
    "        ith_cluster_silhouette_values = sample_silhouette_values[labels == i]\n",
    "        ith_cluster_silhouette_values.sort()\n",
    "        size_cluster_i = ith_cluster_silhouette_values.shape[0]\n",
    "        y_upper = y_lower + size_cluster_i\n",
    "        color = cm.nipy_spectral(float(i) / n_clusters)\n",
    "        ax1.fill_betweenx(\n",
    "            np.arange(y_lower, y_upper),\n",
    "            0,\n",
    "            ith_cluster_silhouette_values,\n",
    "            facecolor=color,\n",
    "            edgecolor=color,\n",
    "            alpha=0.7,\n",
    "        )\n",
    "        ax1.text(-0.05, y_lower + 0.5 * size_cluster_i, str(i))\n",
    "        y_lower = y_upper + 10\n",
    "    ax1.axvline(x=silhouette_avg, color=\"red\", linestyle=\"--\")\n",
    "    ax1.set_xlabel(\"Silhouette coefficient values\")\n",
    "    ax1.set_ylabel(\"Cluster label\")\n",
    "    ax1.set_title(\"Silhouette plot for the various clusters\")\n",
    "    ax1.set_yticks([])\n",
    "    plt.show()"
   ]
  },
  {
   "cell_type": "code",
   "execution_count": 31,
   "id": "9905c27f",
   "metadata": {},
   "outputs": [
    {
     "data": {
      "image/png": "[encoded data removed]",
      "text/plain": [
       "<Figure size 640x480 with 1 Axes>"
      ]
     },
     "metadata": {},
     "output_type": "display_data"
    }
   ],
   "source": [
    "plot_silhouette(X_pre, labels)"
   ]
  },
  {
   "cell_type": "code",
   "execution_count": 32,
   "id": "64a12fe8",
   "metadata": {},
   "outputs": [],
   "source": [
    "from sklearn.metrics import silhouette_score"
   ]
  },
  {
   "cell_type": "code",
   "execution_count": 41,
   "id": "7946aad7",
   "metadata": {},
   "outputs": [],
   "source": [
    "sils = []\n",
    "K = range(2, 15)\n",
    "for i in K:\n",
    "    preds = KMeans(n_clusters=i, random_state=42).fit_predict(X_pre)\n",
    "    silhouette_avg = silhouette_score(X_pre, preds)\n",
    "    sils.append(silhouette_avg.round(4))"
   ]
  },
  {
   "cell_type": "code",
   "execution_count": 42,
   "id": "062d8e00",
   "metadata": {},
   "outputs": [
    {
     "data": {
      "text/plain": [
       "[np.float64(0.3973),\n",
       " np.float64(0.4666),\n",
       " np.float64(0.4943),\n",
       " np.float64(0.5547),\n",
       " np.float64(0.5138),\n",
       " np.float64(0.502),\n",
       " np.float64(0.455),\n",
       " np.float64(0.4567),\n",
       " np.float64(0.4448),\n",
       " np.float64(0.4456),\n",
       " np.float64(0.3714),\n",
       " np.float64(0.3826),\n",
       " np.float64(0.3875)]"
      ]
     },
     "execution_count": 42,
     "metadata": {},
     "output_type": "execute_result"
    }
   ],
   "source": [
    "sils"
   ]
  },
  {
   "cell_type": "code",
   "execution_count": 44,
   "id": "b262d18f",
   "metadata": {},
   "outputs": [
    {
     "data": {
      "text/plain": [
       "np.float64(0.5547)"
      ]
     },
     "execution_count": 44,
     "metadata": {},
     "output_type": "execute_result"
    }
   ],
   "source": [
    "np.max(sils)"
   ]
  },
  {
   "cell_type": "code",
   "execution_count": 46,
   "id": "5f4ba190",
   "metadata": {},
   "outputs": [
    {
     "data": {
      "text/plain": [
       "5"
      ]
     },
     "execution_count": 46,
     "metadata": {},
     "output_type": "execute_result"
    }
   ],
   "source": [
    "best_k = K[np.argmax(sils)]\n",
    "best_k"
   ]
  },
  {
   "cell_type": "code",
   "execution_count": 51,
   "id": "7cd8b0ae",
   "metadata": {},
   "outputs": [
    {
     "data": {
      "image/png": "[encoded data removed]",
      "text/plain": [
       "<Figure size 1000x600 with 1 Axes>"
      ]
     },
     "metadata": {},
     "output_type": "display_data"
    }
   ],
   "source": [
    "import matplotlib.pyplot as plt\n",
    "plt.figure(figsize=(10, 6))\n",
    "plt.plot(K, sils, marker=\"o\")\n",
    "plt.title(f\"Silhoutee score Best K = {best_k}\")\n",
    "plt.axvline(x=best_k, color=\"red\", linestyle=\"--\")\n",
    "plt.xlabel(\"Number of Clusters\")\n",
    "plt.ylabel(\"Silhouette Score\")\n",
    "plt.xticks(K)\n",
    "plt.show()"
   ]
  },
  {
   "cell_type": "code",
   "execution_count": null,
   "id": "2d19e9a3",
   "metadata": {},
   "outputs": [],
   "source": []
  }
 ],
 "metadata": {
  "kernelspec": {
   "display_name": ".venv",
   "language": "python",
   "name": "python3"
  },
  "language_info": {
   "codemirror_mode": {
    "name": "ipython",
    "version": 3
   },
   "file_extension": ".py",
   "mimetype": "text/x-python",
   "name": "python",
   "nbconvert_exporter": "python",
   "pygments_lexer": "ipython3",
   "version": "3.13.3"
  }
 },
 "nbformat": 4,
 "nbformat_minor": 5
}
